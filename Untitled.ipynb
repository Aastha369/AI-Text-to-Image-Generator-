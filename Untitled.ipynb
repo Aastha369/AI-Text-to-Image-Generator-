{
  "nbformat": 4,
  "nbformat_minor": 0,
  "metadata": {
    "colab": {
      "provenance": [],
      "authorship_tag": "ABX9TyNbEWF2RKefYZNjuEHL2JFm",
      "include_colab_link": true
    },
    "kernelspec": {
      "name": "python3",
      "display_name": "Python 3"
    },
    "language_info": {
      "name": "python"
    }
  },
  "cells": [
    {
      "cell_type": "markdown",
      "metadata": {
        "id": "view-in-github",
        "colab_type": "text"
      },
      "source": [
        "<a href=\"https://colab.research.google.com/github/Aastha369/AI-Text-to-Image-Generator-/blob/main/Untitled.ipynb\" target=\"_parent\"><img src=\"https://colab.research.google.com/assets/colab-badge.svg\" alt=\"Open In Colab\"/></a>"
      ]
    },
    {
      "cell_type": "code",
      "execution_count": null,
      "metadata": {
        "id": "Qlcw0nJQ81NZ"
      },
      "outputs": [],
      "source": [
        "# STEP 1: Install necessary libraries (if not already installed)\n",
        "# Run this in a Jupyter cell\n",
        "!pip install diffusers transformers accelerate scipy safetensors matplotlib\n",
        "\n",
        "# STEP 2: Import required libraries\n",
        "from diffusers import StableDiffusionPipeline\n",
        "import torch\n",
        "import matplotlib.pyplot as plt\n",
        "\n",
        "# STEP 3: Load the model (with float32 for CPU)\n",
        "pipe = StableDiffusionPipeline.from_pretrained(\n",
        "    \"runwayml/stable-diffusion-v1-5\",\n",
        "    torch_dtype=torch.float32,         # ✅ Required for CPU\n",
        "    use_safetensors=True\n",
        ").to(\"cpu\")                             # ✅ Run on CPU\n",
        "\n",
        "# STEP 4: Generate Image\n",
        "prompt = \"A futuristic city at sunset, cyberpunk style, ultra detailed\"\n",
        "image = pipe(prompt).images[0]\n",
        "\n",
        "# STEP 5: Show Image\n",
        "plt.imshow(image)\n",
        "plt.axis(\"off\")\n",
        "plt.title(\"Generated Image\")\n",
        "plt.show()"
      ]
    }
  ]
}